{
 "cells": [
  {
   "cell_type": "code",
   "execution_count": 4,
   "metadata": {},
   "outputs": [],
   "source": [
    "from sklearn.linear_model import LinearRegression\n",
    "from typing import Any, Union\n",
    "import numpy as np\n",
    "import pandas as pd\n",
    "import matplotlib\n",
    "import matplotlib.pyplot as plt\n",
    "import seaborn as sns\n",
    "import string\n",
    "from IPython.display import display\n",
    "import pyMechkar as mechkar\n",
    "from scipy import stats\n",
    "from random import shuffle\n",
    "from sklearn.metrics import mean_absolute_error\n",
    "from sklearn import svm\n",
    "from sklearn.metrics import accuracy_score"
   ]
  },
  {
   "cell_type": "code",
   "execution_count": 2,
   "metadata": {},
   "outputs": [],
   "source": [
    "#desired_width=520\n",
    "#pd.set_option('display.width', desired_width)\n",
    "#np.set_printoptions(linewidth=desired_width)\n",
    "#pd.set_option('display.max_columns',18)"
   ]
  },
  {
   "cell_type": "code",
   "execution_count": 3,
   "metadata": {},
   "outputs": [
    {
     "name": "stdout",
     "output_type": "stream",
     "text": [
      "   Customer_ID  Weeknum  Product  Customer_Number  Sum_Quantity  \\\n",
      "0       0.0048       11       17        416000001            33   \n",
      "1       0.0048       12       17        416000001            44   \n",
      "2       0.0048       13       17        416000001            33   \n",
      "3       0.0048       14       17        416000001             0   \n",
      "4       0.0048       15       17        416000001             3   \n",
      "\n",
      "   Avg_Price_Change  Avg_Price_Change_1  Sum_Quantity_1_minus_Sum_Quantity  \\\n",
      "0              3.61                3.61                                 55   \n",
      "1              3.61                3.61                                 55   \n",
      "2              3.61                3.65                                -33   \n",
      "3              3.65                3.61                                  3   \n",
      "4              3.61                3.61                                 27   \n",
      "\n",
      "   Avg_Quantity_for_Week  Avg_Quantity_for_PO        ...         \\\n",
      "0                  41.74                41.74        ...          \n",
      "1                  41.74                41.74        ...          \n",
      "2                  41.74                41.74        ...          \n",
      "3                  41.74                41.74        ...          \n",
      "4                  41.74                41.74        ...          \n",
      "\n",
      "   Above_Standard_Price  Below_Standard_Price  Total_Quantity_for_Customer  \\\n",
      "0                     0                     1                        60916   \n",
      "1                     0                     1                        60916   \n",
      "2                     0                     1                        60916   \n",
      "3                     0                     1                        60916   \n",
      "4                     0                     1                        60916   \n",
      "\n",
      "   Total_Quantity  Holiday  Temp_Hi  Temp_Lo  Temp_Rain  Frequency_PO  \\\n",
      "0        12757437        0    21.57    11.29          0           1.0   \n",
      "1        12757437        0    30.29    12.29          0           1.0   \n",
      "2        12757437        1    24.86    14.43          0           1.0   \n",
      "3        12757437        1    25.71    13.43          0           1.0   \n",
      "4        12757437        1    23.43    14.57          1           1.0   \n",
      "\n",
      "   Sum_Quantity_1_Y  \n",
      "0                44  \n",
      "1                33  \n",
      "2                 0  \n",
      "3                 3  \n",
      "4                30  \n",
      "\n",
      "[5 rows x 23 columns]\n"
     ]
    }
   ],
   "source": [
    "Data = pd.read_csv(\"final_csv1_full_v3.csv\", header=0)\n",
    "#pd.options.display.max_columns = 13\n",
    "#display(Data)\n",
    "print(Data.head())"
   ]
  },
  {
   "cell_type": "code",
   "execution_count": null,
   "metadata": {},
   "outputs": [],
   "source": [
    "Data.describe()"
   ]
  },
  {
   "cell_type": "code",
   "execution_count": null,
   "metadata": {},
   "outputs": [],
   "source": [
    "Data.dtypes"
   ]
  },
  {
   "cell_type": "code",
   "execution_count": null,
   "metadata": {},
   "outputs": [],
   "source": [
    "Data.dtypes[Data.dtypes=='float64']"
   ]
  },
  {
   "cell_type": "code",
   "execution_count": null,
   "metadata": {},
   "outputs": [],
   "source": [
    "## determine the number of missing values\n",
    "Data.isna().sum()"
   ]
  },
  {
   "cell_type": "code",
   "execution_count": null,
   "metadata": {},
   "outputs": [],
   "source": [
    "## Ploting bivariate relationtips. This graph will show the scatterplot for each combination and at \n",
    "## the diagonal will show the histogram of the variable. This graph helps to detect correlations and \n",
    "## outliers\n",
    "sns.pairplot(Data, height=2)\n",
    "plt.show()"
   ]
  },
  {
   "cell_type": "code",
   "execution_count": null,
   "metadata": {
    "scrolled": true
   },
   "outputs": [],
   "source": [
    "sns.boxplot(x=Data['Product'], y=Data['Sum_Quantity'])\n",
    "plt.show()"
   ]
  },
  {
   "cell_type": "code",
   "execution_count": null,
   "metadata": {
    "scrolled": true
   },
   "outputs": [],
   "source": [
    "sns.jointplot(x=Data['Product'], y=Data['Avg_Quantity_for_PO'])\n",
    "plt.show()"
   ]
  },
  {
   "cell_type": "code",
   "execution_count": null,
   "metadata": {},
   "outputs": [],
   "source": [
    "sns.jointplot(x=Data['Avg_Quantity_for_PO'], y=Data['Avg_Quantity_for_Week'])\n",
    "plt.show()"
   ]
  },
  {
   "cell_type": "code",
   "execution_count": null,
   "metadata": {},
   "outputs": [],
   "source": [
    "Data2 = Data.copy()"
   ]
  },
  {
   "cell_type": "code",
   "execution_count": null,
   "metadata": {},
   "outputs": [],
   "source": [
    "Data2['Product'] = Data2['Product'].astype('category')\n"
   ]
  },
  {
   "cell_type": "code",
   "execution_count": null,
   "metadata": {},
   "outputs": [],
   "source": [
    "Data2['Customer_Number'] = Data2['Customer_Number'].astype('category')"
   ]
  },
  {
   "cell_type": "code",
   "execution_count": null,
   "metadata": {},
   "outputs": [],
   "source": [
    "Data2.dtypes"
   ]
  },
  {
   "cell_type": "code",
   "execution_count": null,
   "metadata": {
    "scrolled": false
   },
   "outputs": [],
   "source": [
    "sns.boxplot(x=Data2['Standard_Price'], y=Data2['Product'])\n",
    "plt.show()"
   ]
  },
  {
   "cell_type": "code",
   "execution_count": null,
   "metadata": {},
   "outputs": [],
   "source": [
    "## Customet_ID alse reprosent the share of the customer, Customer number is the name of the customrt \n",
    "sns.boxplot(x=Data2['Customer_Number'], y=Data2['Customer_ID'])\n",
    "plt.show()\n",
    "# you can see that there are a few \"big\" customers, however the majority looks a like"
   ]
  },
  {
   "cell_type": "code",
   "execution_count": null,
   "metadata": {},
   "outputs": [],
   "source": [
    "sns.boxplot(x=Data2['Weeknum'], y=Data2['Sum_Quantity'])\n",
    "plt.show()"
   ]
  },
  {
   "cell_type": "code",
   "execution_count": null,
   "metadata": {
    "scrolled": true
   },
   "outputs": [],
   "source": [
    "sns.boxplot(x=Data2['Product'], y=Data2['Avg_Quantity_for_PO'])\n",
    "plt.show()"
   ]
  },
  {
   "cell_type": "code",
   "execution_count": null,
   "metadata": {
    "scrolled": false
   },
   "outputs": [],
   "source": [
    "sns.distplot(Data['Standard_Price'])\n",
    "plt.show()"
   ]
  },
  {
   "cell_type": "code",
   "execution_count": null,
   "metadata": {},
   "outputs": [],
   "source": [
    "sns.distplot(Data['Sum_Quantity'])\n",
    "plt.show()"
   ]
  },
  {
   "cell_type": "code",
   "execution_count": null,
   "metadata": {},
   "outputs": [],
   "source": [
    "sns.distplot(Data['Avg_Quantity_for_PO'])\n",
    "plt.show()"
   ]
  },
  {
   "cell_type": "code",
   "execution_count": null,
   "metadata": {},
   "outputs": [],
   "source": [
    "sns.distplot(Data['Temp_Hi'])\n",
    "plt.show()"
   ]
  },
  {
   "cell_type": "code",
   "execution_count": null,
   "metadata": {
    "scrolled": true
   },
   "outputs": [],
   "source": [
    "sns.distplot(Data['Temp_Lo'])\n",
    "plt.show()"
   ]
  },
  {
   "cell_type": "code",
   "execution_count": null,
   "metadata": {},
   "outputs": [],
   "source": [
    "## it was a try to minimize the DB in order to get a P value for Y (Sum_Quantity_1_Y), however our Y is not a category \n",
    "\n",
    "##Data3 = Data2.drop(columns=['Avg_Price_Change','Sum_Quantity_1_minus_Sum_Quantity','Avg_Quantity_for_Week' , 'All_week', 'Count_week_PO', 'Above_Standard_Price', 'Below_Standard_Price', 'Total_Quantity','Avg_Price_Change_1','Temp_Hi','Temp_Lo','Temp_Rain','Frequency_PO','Holiday' ])\n",
    "##Data3.head"
   ]
  },
  {
   "cell_type": "code",
   "execution_count": null,
   "metadata": {},
   "outputs": [],
   "source": [
    "tab1=mechkar.pyMechkar().Table1(data=Data2, y='Customer_number' )\n",
    "tab1"
   ]
  },
  {
   "cell_type": "code",
   "execution_count": null,
   "metadata": {},
   "outputs": [],
   "source": [
    "mechkar.pyMechkar().exploreData(data=Data2)\n"
   ]
  },
  {
   "cell_type": "code",
   "execution_count": null,
   "metadata": {},
   "outputs": [],
   "source": [
    "print (Data2.groupby('Product').agg({'Sum_Quantity':['count',sum,'mean']}))"
   ]
  },
  {
   "cell_type": "code",
   "execution_count": null,
   "metadata": {
    "scrolled": false
   },
   "outputs": [],
   "source": [
    "print (Data2)"
   ]
  },
  {
   "cell_type": "code",
   "execution_count": null,
   "metadata": {},
   "outputs": [],
   "source": [
    "## stop at \"defining the error\" @ Tree based models - Hyperparamaters"
   ]
  },
  {
   "cell_type": "code",
   "execution_count": null,
   "metadata": {},
   "outputs": [],
   "source": [
    "Data2ByProduct = Data2.sort_values(by=['Product', 'Weeknum'])\n",
    "print(Data2ByProduct)"
   ]
  },
  {
   "cell_type": "code",
   "execution_count": null,
   "metadata": {
    "scrolled": false
   },
   "outputs": [],
   "source": [
    "plt.plot (Data2ByProduct.Weeknum, Data2ByProduct.Sum_Quantity)"
   ]
  },
  {
   "cell_type": "code",
   "execution_count": null,
   "metadata": {},
   "outputs": [],
   "source": [
    "# we can see that in week 14 the quantities are very high, and on week 15 are very low, "
   ]
  },
  {
   "cell_type": "code",
   "execution_count": null,
   "metadata": {
    "scrolled": true
   },
   "outputs": [],
   "source": [
    "# extract a single product (17) and plot its quantities per week\n",
    "P17 = Data2ByProduct.Product == 17\n",
    "Prod17 = Data2ByProduct.copy()[P17]\n",
    "Prod17.head()"
   ]
  },
  {
   "cell_type": "code",
   "execution_count": null,
   "metadata": {},
   "outputs": [],
   "source": [
    "plt.plot (Prod17.Weeknum, Prod17.Sum_Quantity)\n",
    "plt.plot (Prod17.Weeknum, Prod17.Standard_Price)\n",
    "#plt.plot (Prod17.Weeknum, Prod17.Holiday, label ='Holiday')\n",
    "#eyal# it doesnt allow me to add Holidays even when in Int type \n",
    "plt.title ('17')"
   ]
  },
  {
   "cell_type": "code",
   "execution_count": null,
   "metadata": {
    "scrolled": false
   },
   "outputs": [],
   "source": [
    "Prod17.describe()"
   ]
  },
  {
   "cell_type": "markdown",
   "metadata": {},
   "source": [
    "It can be seen that the quantities are subjected to the Holidays (@ week 15)"
   ]
  },
  {
   "cell_type": "code",
   "execution_count": null,
   "metadata": {},
   "outputs": [],
   "source": [
    "# For multivariate outlier detection we can use DBSCAN. \n",
    "#This algorithm search for aggregation of points that are combined and leave out of them the outlier points.\n",
    "# X is an numpy array\n",
    "X = Data3.copy()\n",
    "\n",
    "def dbscan_mvoutliers(X):\n",
    "    from sklearn.cluster import DBSCAN\n",
    "    from sklearn.preprocessing import StandardScaler\n",
    "    # scale data first\n",
    "    X = StandardScaler().fit_transform(X.values)\n",
    "\n",
    "    db = DBSCAN(eps=0.5, min_samples=50).fit(X)\n",
    "    labels = db.labels_\n",
    "\n",
    "    plt.figure(figsize=(20,20))\n",
    "\n",
    "    unique_labels = set(labels)\n",
    "    colors = ['blue', 'red']\n",
    "\n",
    "    for color,label in zip(colors, unique_labels):\n",
    "        sample_mask = [True if l == label else False for l in labels]\n",
    "        plt.plot(X[:,0][sample_mask], Data2[:, 1][sample_mask], 'o', color=color);\n",
    "    plt.xlabel('x');\n",
    "    plt.ylabel('y');\n",
    "    return(db)"
   ]
  },
  {
   "cell_type": "code",
   "execution_count": null,
   "metadata": {},
   "outputs": [],
   "source": [
    "## NOTE: it doesnt work 'slice' error\n",
    "##dbsc1 = dbscan_mvoutliers(Data)"
   ]
  },
  {
   "cell_type": "markdown",
   "metadata": {},
   "source": [
    "## Find corelation and P-Values "
   ]
  },
  {
   "cell_type": "code",
   "execution_count": null,
   "metadata": {},
   "outputs": [],
   "source": [
    "df = pd.DataFrame(Data, columns = ['Sum_Quantity','Sum_Quantity_1_Y'])\n",
    "from scipy import stats \n",
    "\n",
    "pearson_coef, p_value = stats.pearsonr(df[\"Sum_Quantity\"], df[\"Sum_Quantity_1_Y\"]) #define the columns to perform calculations on\n",
    "print(\"Pearson Correlation Coefficient: \", pearson_coef, \"and a P-value of:\", p_value) # Results \n"
   ]
  },
  {
   "cell_type": "code",
   "execution_count": null,
   "metadata": {},
   "outputs": [],
   "source": [
    "from scipy.stats import pearsonr\n",
    "import pandas as pd\n",
    "\n",
    "def calculate_pvalues(df):\n",
    "    df = df.dropna()._get_numeric_data()\n",
    "    dfcols = pd.DataFrame(columns=df.columns)\n",
    "    pvalues = dfcols.transpose().join(dfcols, how='outer')\n",
    "    for r in df.columns:\n",
    "        for c in df.columns:\n",
    "            pvalues[r][c] = round(pearsonr(df[r], df[c])[1], 4)\n",
    "    return pvalues"
   ]
  },
  {
   "cell_type": "code",
   "execution_count": null,
   "metadata": {
    "scrolled": false
   },
   "outputs": [],
   "source": [
    "## Calculate the P Value of the different paramaters (The p-value roughly indicates the probability of an uncorrelated system therefore we are looking for thos)\n",
    "calculate_pvalues(Data)"
   ]
  },
  {
   "cell_type": "code",
   "execution_count": null,
   "metadata": {
    "scrolled": true
   },
   "outputs": [],
   "source": [
    "show_p = calculate_pvalues(Data)"
   ]
  },
  {
   "cell_type": "code",
   "execution_count": null,
   "metadata": {},
   "outputs": [],
   "source": [
    "plt.plot(show_p['Sum_Quantity_1_Y'])\n",
    "plt.show()"
   ]
  },
  {
   "cell_type": "code",
   "execution_count": 202,
   "metadata": {
    "scrolled": true
   },
   "outputs": [
    {
     "data": {
      "text/html": [
       "<div>\n",
       "<style scoped>\n",
       "    .dataframe tbody tr th:only-of-type {\n",
       "        vertical-align: middle;\n",
       "    }\n",
       "\n",
       "    .dataframe tbody tr th {\n",
       "        vertical-align: top;\n",
       "    }\n",
       "\n",
       "    .dataframe thead th {\n",
       "        text-align: right;\n",
       "    }\n",
       "</style>\n",
       "<table border=\"1\" class=\"dataframe\">\n",
       "  <thead>\n",
       "    <tr style=\"text-align: right;\">\n",
       "      <th></th>\n",
       "      <th>Customer_ID</th>\n",
       "      <th>Weeknum</th>\n",
       "      <th>Product</th>\n",
       "      <th>Customer_Number</th>\n",
       "      <th>Sum_Quantity</th>\n",
       "      <th>Avg_Price_Change</th>\n",
       "      <th>Avg_Price_Change_1</th>\n",
       "      <th>Sum_Quantity_1_minus_Sum_Quantity</th>\n",
       "      <th>Avg_Quantity_for_Week</th>\n",
       "      <th>Avg_Quantity_for_PO</th>\n",
       "      <th>...</th>\n",
       "      <th>Above_Standard_Price</th>\n",
       "      <th>Below_Standard_Price</th>\n",
       "      <th>Total_Quantity_for_Customer</th>\n",
       "      <th>Total_Quantity</th>\n",
       "      <th>Holiday</th>\n",
       "      <th>Temp_Hi</th>\n",
       "      <th>Temp_Lo</th>\n",
       "      <th>Temp_Rain</th>\n",
       "      <th>Frequency_PO</th>\n",
       "      <th>Sum_Quantity_1_Y</th>\n",
       "    </tr>\n",
       "  </thead>\n",
       "  <tbody>\n",
       "    <tr>\n",
       "      <th>Customer_ID</th>\n",
       "      <td>1.000000</td>\n",
       "      <td>0.007963</td>\n",
       "      <td>-0.008398</td>\n",
       "      <td>0.108949</td>\n",
       "      <td>0.140236</td>\n",
       "      <td>0.018184</td>\n",
       "      <td>0.017724</td>\n",
       "      <td>0.074138</td>\n",
       "      <td>0.186231</td>\n",
       "      <td>0.171686</td>\n",
       "      <td>...</td>\n",
       "      <td>0.014056</td>\n",
       "      <td>-0.072639</td>\n",
       "      <td>0.999972</td>\n",
       "      <td>NaN</td>\n",
       "      <td>-0.001083</td>\n",
       "      <td>0.008295</td>\n",
       "      <td>0.011396</td>\n",
       "      <td>-0.001207</td>\n",
       "      <td>-0.092541</td>\n",
       "      <td>0.139958</td>\n",
       "    </tr>\n",
       "    <tr>\n",
       "      <th>Weeknum</th>\n",
       "      <td>0.007963</td>\n",
       "      <td>1.000000</td>\n",
       "      <td>0.006760</td>\n",
       "      <td>0.002670</td>\n",
       "      <td>0.005176</td>\n",
       "      <td>0.006797</td>\n",
       "      <td>0.007296</td>\n",
       "      <td>0.009902</td>\n",
       "      <td>-0.003235</td>\n",
       "      <td>0.000763</td>\n",
       "      <td>...</td>\n",
       "      <td>0.053596</td>\n",
       "      <td>-0.051498</td>\n",
       "      <td>0.007939</td>\n",
       "      <td>NaN</td>\n",
       "      <td>-0.394184</td>\n",
       "      <td>0.661595</td>\n",
       "      <td>0.934874</td>\n",
       "      <td>-0.293873</td>\n",
       "      <td>0.010034</td>\n",
       "      <td>0.007248</td>\n",
       "    </tr>\n",
       "    <tr>\n",
       "      <th>Product</th>\n",
       "      <td>-0.008398</td>\n",
       "      <td>0.006760</td>\n",
       "      <td>1.000000</td>\n",
       "      <td>-0.007190</td>\n",
       "      <td>-0.099841</td>\n",
       "      <td>0.144201</td>\n",
       "      <td>0.144053</td>\n",
       "      <td>-0.122658</td>\n",
       "      <td>-0.156349</td>\n",
       "      <td>-0.098648</td>\n",
       "      <td>...</td>\n",
       "      <td>0.022901</td>\n",
       "      <td>-0.006279</td>\n",
       "      <td>-0.008322</td>\n",
       "      <td>NaN</td>\n",
       "      <td>-0.003990</td>\n",
       "      <td>0.005720</td>\n",
       "      <td>0.007133</td>\n",
       "      <td>-0.005286</td>\n",
       "      <td>0.093635</td>\n",
       "      <td>-0.096936</td>\n",
       "    </tr>\n",
       "    <tr>\n",
       "      <th>Customer_Number</th>\n",
       "      <td>0.108949</td>\n",
       "      <td>0.002670</td>\n",
       "      <td>-0.007190</td>\n",
       "      <td>1.000000</td>\n",
       "      <td>0.028880</td>\n",
       "      <td>-0.006470</td>\n",
       "      <td>-0.006354</td>\n",
       "      <td>0.048882</td>\n",
       "      <td>0.041713</td>\n",
       "      <td>0.035374</td>\n",
       "      <td>...</td>\n",
       "      <td>-0.006570</td>\n",
       "      <td>-0.002431</td>\n",
       "      <td>0.108633</td>\n",
       "      <td>NaN</td>\n",
       "      <td>-0.004465</td>\n",
       "      <td>0.003573</td>\n",
       "      <td>0.003193</td>\n",
       "      <td>-0.003758</td>\n",
       "      <td>-0.004053</td>\n",
       "      <td>0.027279</td>\n",
       "    </tr>\n",
       "    <tr>\n",
       "      <th>Sum_Quantity</th>\n",
       "      <td>0.140236</td>\n",
       "      <td>0.005176</td>\n",
       "      <td>-0.099841</td>\n",
       "      <td>0.028880</td>\n",
       "      <td>1.000000</td>\n",
       "      <td>-0.123152</td>\n",
       "      <td>-0.122806</td>\n",
       "      <td>0.395034</td>\n",
       "      <td>0.688745</td>\n",
       "      <td>0.678986</td>\n",
       "      <td>...</td>\n",
       "      <td>0.016830</td>\n",
       "      <td>-0.190138</td>\n",
       "      <td>0.140303</td>\n",
       "      <td>NaN</td>\n",
       "      <td>0.010521</td>\n",
       "      <td>0.008050</td>\n",
       "      <td>0.002808</td>\n",
       "      <td>0.000371</td>\n",
       "      <td>0.017045</td>\n",
       "      <td>0.379380</td>\n",
       "    </tr>\n",
       "    <tr>\n",
       "      <th>Avg_Price_Change</th>\n",
       "      <td>0.018184</td>\n",
       "      <td>0.006797</td>\n",
       "      <td>0.144201</td>\n",
       "      <td>-0.006470</td>\n",
       "      <td>-0.123152</td>\n",
       "      <td>1.000000</td>\n",
       "      <td>0.998576</td>\n",
       "      <td>-0.060664</td>\n",
       "      <td>-0.160904</td>\n",
       "      <td>-0.166589</td>\n",
       "      <td>...</td>\n",
       "      <td>0.266395</td>\n",
       "      <td>0.014297</td>\n",
       "      <td>0.018137</td>\n",
       "      <td>NaN</td>\n",
       "      <td>-0.005217</td>\n",
       "      <td>0.005963</td>\n",
       "      <td>0.007910</td>\n",
       "      <td>-0.003508</td>\n",
       "      <td>0.047088</td>\n",
       "      <td>-0.124564</td>\n",
       "    </tr>\n",
       "    <tr>\n",
       "      <th>Avg_Price_Change_1</th>\n",
       "      <td>0.017724</td>\n",
       "      <td>0.007296</td>\n",
       "      <td>0.144053</td>\n",
       "      <td>-0.006354</td>\n",
       "      <td>-0.122806</td>\n",
       "      <td>0.998576</td>\n",
       "      <td>1.000000</td>\n",
       "      <td>-0.061011</td>\n",
       "      <td>-0.161069</td>\n",
       "      <td>-0.167288</td>\n",
       "      <td>...</td>\n",
       "      <td>0.256477</td>\n",
       "      <td>0.018494</td>\n",
       "      <td>0.017679</td>\n",
       "      <td>NaN</td>\n",
       "      <td>-0.005652</td>\n",
       "      <td>0.006879</td>\n",
       "      <td>0.008276</td>\n",
       "      <td>-0.005344</td>\n",
       "      <td>0.046039</td>\n",
       "      <td>-0.125570</td>\n",
       "    </tr>\n",
       "    <tr>\n",
       "      <th>Sum_Quantity_1_minus_Sum_Quantity</th>\n",
       "      <td>0.074138</td>\n",
       "      <td>0.009902</td>\n",
       "      <td>-0.122658</td>\n",
       "      <td>0.048882</td>\n",
       "      <td>0.395034</td>\n",
       "      <td>-0.060664</td>\n",
       "      <td>-0.061011</td>\n",
       "      <td>1.000000</td>\n",
       "      <td>0.608408</td>\n",
       "      <td>0.429966</td>\n",
       "      <td>...</td>\n",
       "      <td>-0.023968</td>\n",
       "      <td>0.031888</td>\n",
       "      <td>0.074183</td>\n",
       "      <td>NaN</td>\n",
       "      <td>-0.016164</td>\n",
       "      <td>0.001111</td>\n",
       "      <td>0.007687</td>\n",
       "      <td>0.001271</td>\n",
       "      <td>-0.079862</td>\n",
       "      <td>0.667559</td>\n",
       "    </tr>\n",
       "    <tr>\n",
       "      <th>Avg_Quantity_for_Week</th>\n",
       "      <td>0.186231</td>\n",
       "      <td>-0.003235</td>\n",
       "      <td>-0.156349</td>\n",
       "      <td>0.041713</td>\n",
       "      <td>0.688745</td>\n",
       "      <td>-0.160904</td>\n",
       "      <td>-0.161069</td>\n",
       "      <td>0.608408</td>\n",
       "      <td>1.000000</td>\n",
       "      <td>0.831337</td>\n",
       "      <td>...</td>\n",
       "      <td>-0.028203</td>\n",
       "      <td>-0.063583</td>\n",
       "      <td>0.186335</td>\n",
       "      <td>NaN</td>\n",
       "      <td>0.000096</td>\n",
       "      <td>-0.001732</td>\n",
       "      <td>-0.002391</td>\n",
       "      <td>0.003171</td>\n",
       "      <td>-0.127916</td>\n",
       "      <td>0.686235</td>\n",
       "    </tr>\n",
       "    <tr>\n",
       "      <th>Avg_Quantity_for_PO</th>\n",
       "      <td>0.171686</td>\n",
       "      <td>0.000763</td>\n",
       "      <td>-0.098648</td>\n",
       "      <td>0.035374</td>\n",
       "      <td>0.678986</td>\n",
       "      <td>-0.166589</td>\n",
       "      <td>-0.167288</td>\n",
       "      <td>0.429966</td>\n",
       "      <td>0.831337</td>\n",
       "      <td>1.000000</td>\n",
       "      <td>...</td>\n",
       "      <td>-0.008412</td>\n",
       "      <td>0.040116</td>\n",
       "      <td>0.171770</td>\n",
       "      <td>NaN</td>\n",
       "      <td>-0.009004</td>\n",
       "      <td>-0.001172</td>\n",
       "      <td>-0.002082</td>\n",
       "      <td>0.004711</td>\n",
       "      <td>0.191741</td>\n",
       "      <td>0.691566</td>\n",
       "    </tr>\n",
       "    <tr>\n",
       "      <th>All_week</th>\n",
       "      <td>0.185607</td>\n",
       "      <td>0.011295</td>\n",
       "      <td>-0.008279</td>\n",
       "      <td>-0.005536</td>\n",
       "      <td>-0.008586</td>\n",
       "      <td>-0.032449</td>\n",
       "      <td>-0.032195</td>\n",
       "      <td>0.036344</td>\n",
       "      <td>-0.016573</td>\n",
       "      <td>-0.083551</td>\n",
       "      <td>...</td>\n",
       "      <td>-0.022375</td>\n",
       "      <td>-0.135513</td>\n",
       "      <td>0.185688</td>\n",
       "      <td>NaN</td>\n",
       "      <td>-0.017508</td>\n",
       "      <td>0.012326</td>\n",
       "      <td>0.010987</td>\n",
       "      <td>-0.012086</td>\n",
       "      <td>-0.176923</td>\n",
       "      <td>-0.009138</td>\n",
       "    </tr>\n",
       "    <tr>\n",
       "      <th>Count_week_PO</th>\n",
       "      <td>0.218207</td>\n",
       "      <td>-0.003736</td>\n",
       "      <td>-0.129772</td>\n",
       "      <td>0.002519</td>\n",
       "      <td>0.057851</td>\n",
       "      <td>-0.100175</td>\n",
       "      <td>-0.099164</td>\n",
       "      <td>0.144511</td>\n",
       "      <td>0.184176</td>\n",
       "      <td>-0.100589</td>\n",
       "      <td>...</td>\n",
       "      <td>-0.085167</td>\n",
       "      <td>-0.320760</td>\n",
       "      <td>0.218470</td>\n",
       "      <td>NaN</td>\n",
       "      <td>0.004828</td>\n",
       "      <td>0.002284</td>\n",
       "      <td>0.001965</td>\n",
       "      <td>-0.005044</td>\n",
       "      <td>-0.706861</td>\n",
       "      <td>0.048599</td>\n",
       "    </tr>\n",
       "    <tr>\n",
       "      <th>Standard_Price</th>\n",
       "      <td>0.018035</td>\n",
       "      <td>0.004717</td>\n",
       "      <td>0.145292</td>\n",
       "      <td>-0.006462</td>\n",
       "      <td>-0.123925</td>\n",
       "      <td>0.999419</td>\n",
       "      <td>0.998593</td>\n",
       "      <td>-0.061029</td>\n",
       "      <td>-0.162093</td>\n",
       "      <td>-0.167856</td>\n",
       "      <td>...</td>\n",
       "      <td>0.250764</td>\n",
       "      <td>0.023055</td>\n",
       "      <td>0.017989</td>\n",
       "      <td>NaN</td>\n",
       "      <td>-0.004517</td>\n",
       "      <td>0.005381</td>\n",
       "      <td>0.006571</td>\n",
       "      <td>-0.003307</td>\n",
       "      <td>0.046446</td>\n",
       "      <td>-0.125453</td>\n",
       "    </tr>\n",
       "    <tr>\n",
       "      <th>Above_Standard_Price</th>\n",
       "      <td>0.014056</td>\n",
       "      <td>0.053596</td>\n",
       "      <td>0.022901</td>\n",
       "      <td>-0.006570</td>\n",
       "      <td>0.016830</td>\n",
       "      <td>0.266395</td>\n",
       "      <td>0.256477</td>\n",
       "      <td>-0.023968</td>\n",
       "      <td>-0.028203</td>\n",
       "      <td>-0.008412</td>\n",
       "      <td>...</td>\n",
       "      <td>1.000000</td>\n",
       "      <td>-0.130838</td>\n",
       "      <td>0.014030</td>\n",
       "      <td>NaN</td>\n",
       "      <td>-0.051379</td>\n",
       "      <td>0.014880</td>\n",
       "      <td>0.021390</td>\n",
       "      <td>-0.030287</td>\n",
       "      <td>0.064237</td>\n",
       "      <td>-0.043397</td>\n",
       "    </tr>\n",
       "    <tr>\n",
       "      <th>Below_Standard_Price</th>\n",
       "      <td>-0.072639</td>\n",
       "      <td>-0.051498</td>\n",
       "      <td>-0.006279</td>\n",
       "      <td>-0.002431</td>\n",
       "      <td>-0.190138</td>\n",
       "      <td>0.014297</td>\n",
       "      <td>0.018494</td>\n",
       "      <td>0.031888</td>\n",
       "      <td>-0.063583</td>\n",
       "      <td>0.040116</td>\n",
       "      <td>...</td>\n",
       "      <td>-0.130838</td>\n",
       "      <td>1.000000</td>\n",
       "      <td>-0.072755</td>\n",
       "      <td>NaN</td>\n",
       "      <td>0.011686</td>\n",
       "      <td>-0.039672</td>\n",
       "      <td>-0.050409</td>\n",
       "      <td>-0.016538</td>\n",
       "      <td>0.245902</td>\n",
       "      <td>0.109263</td>\n",
       "    </tr>\n",
       "    <tr>\n",
       "      <th>Total_Quantity_for_Customer</th>\n",
       "      <td>0.999972</td>\n",
       "      <td>0.007939</td>\n",
       "      <td>-0.008322</td>\n",
       "      <td>0.108633</td>\n",
       "      <td>0.140303</td>\n",
       "      <td>0.018137</td>\n",
       "      <td>0.017679</td>\n",
       "      <td>0.074183</td>\n",
       "      <td>0.186335</td>\n",
       "      <td>0.171770</td>\n",
       "      <td>...</td>\n",
       "      <td>0.014030</td>\n",
       "      <td>-0.072755</td>\n",
       "      <td>1.000000</td>\n",
       "      <td>NaN</td>\n",
       "      <td>-0.001055</td>\n",
       "      <td>0.008273</td>\n",
       "      <td>0.011381</td>\n",
       "      <td>-0.001186</td>\n",
       "      <td>-0.092701</td>\n",
       "      <td>0.140019</td>\n",
       "    </tr>\n",
       "    <tr>\n",
       "      <th>Total_Quantity</th>\n",
       "      <td>NaN</td>\n",
       "      <td>NaN</td>\n",
       "      <td>NaN</td>\n",
       "      <td>NaN</td>\n",
       "      <td>NaN</td>\n",
       "      <td>NaN</td>\n",
       "      <td>NaN</td>\n",
       "      <td>NaN</td>\n",
       "      <td>NaN</td>\n",
       "      <td>NaN</td>\n",
       "      <td>...</td>\n",
       "      <td>NaN</td>\n",
       "      <td>NaN</td>\n",
       "      <td>NaN</td>\n",
       "      <td>NaN</td>\n",
       "      <td>NaN</td>\n",
       "      <td>NaN</td>\n",
       "      <td>NaN</td>\n",
       "      <td>NaN</td>\n",
       "      <td>NaN</td>\n",
       "      <td>NaN</td>\n",
       "    </tr>\n",
       "    <tr>\n",
       "      <th>Holiday</th>\n",
       "      <td>-0.001083</td>\n",
       "      <td>-0.394184</td>\n",
       "      <td>-0.003990</td>\n",
       "      <td>-0.004465</td>\n",
       "      <td>0.010521</td>\n",
       "      <td>-0.005217</td>\n",
       "      <td>-0.005652</td>\n",
       "      <td>-0.016164</td>\n",
       "      <td>0.000096</td>\n",
       "      <td>-0.009004</td>\n",
       "      <td>...</td>\n",
       "      <td>-0.051379</td>\n",
       "      <td>0.011686</td>\n",
       "      <td>-0.001055</td>\n",
       "      <td>NaN</td>\n",
       "      <td>1.000000</td>\n",
       "      <td>-0.172683</td>\n",
       "      <td>-0.307486</td>\n",
       "      <td>0.076156</td>\n",
       "      <td>-0.022847</td>\n",
       "      <td>-0.013335</td>\n",
       "    </tr>\n",
       "    <tr>\n",
       "      <th>Temp_Hi</th>\n",
       "      <td>0.008295</td>\n",
       "      <td>0.661595</td>\n",
       "      <td>0.005720</td>\n",
       "      <td>0.003573</td>\n",
       "      <td>0.008050</td>\n",
       "      <td>0.005963</td>\n",
       "      <td>0.006879</td>\n",
       "      <td>0.001111</td>\n",
       "      <td>-0.001732</td>\n",
       "      <td>-0.001172</td>\n",
       "      <td>...</td>\n",
       "      <td>0.014880</td>\n",
       "      <td>-0.039672</td>\n",
       "      <td>0.008273</td>\n",
       "      <td>NaN</td>\n",
       "      <td>-0.172683</td>\n",
       "      <td>1.000000</td>\n",
       "      <td>0.798681</td>\n",
       "      <td>-0.504879</td>\n",
       "      <td>0.002268</td>\n",
       "      <td>-0.009450</td>\n",
       "    </tr>\n",
       "    <tr>\n",
       "      <th>Temp_Lo</th>\n",
       "      <td>0.011396</td>\n",
       "      <td>0.934874</td>\n",
       "      <td>0.007133</td>\n",
       "      <td>0.003193</td>\n",
       "      <td>0.002808</td>\n",
       "      <td>0.007910</td>\n",
       "      <td>0.008276</td>\n",
       "      <td>0.007687</td>\n",
       "      <td>-0.002391</td>\n",
       "      <td>-0.002082</td>\n",
       "      <td>...</td>\n",
       "      <td>0.021390</td>\n",
       "      <td>-0.050409</td>\n",
       "      <td>0.011381</td>\n",
       "      <td>NaN</td>\n",
       "      <td>-0.307486</td>\n",
       "      <td>0.798681</td>\n",
       "      <td>1.000000</td>\n",
       "      <td>-0.370303</td>\n",
       "      <td>-0.001538</td>\n",
       "      <td>0.002421</td>\n",
       "    </tr>\n",
       "    <tr>\n",
       "      <th>Temp_Rain</th>\n",
       "      <td>-0.001207</td>\n",
       "      <td>-0.293873</td>\n",
       "      <td>-0.005286</td>\n",
       "      <td>-0.003758</td>\n",
       "      <td>0.000371</td>\n",
       "      <td>-0.003508</td>\n",
       "      <td>-0.005344</td>\n",
       "      <td>0.001271</td>\n",
       "      <td>0.003171</td>\n",
       "      <td>0.004711</td>\n",
       "      <td>...</td>\n",
       "      <td>-0.030287</td>\n",
       "      <td>-0.016538</td>\n",
       "      <td>-0.001186</td>\n",
       "      <td>NaN</td>\n",
       "      <td>0.076156</td>\n",
       "      <td>-0.504879</td>\n",
       "      <td>-0.370303</td>\n",
       "      <td>1.000000</td>\n",
       "      <td>-0.000253</td>\n",
       "      <td>0.000965</td>\n",
       "    </tr>\n",
       "    <tr>\n",
       "      <th>Frequency_PO</th>\n",
       "      <td>-0.092541</td>\n",
       "      <td>0.010034</td>\n",
       "      <td>0.093635</td>\n",
       "      <td>-0.004053</td>\n",
       "      <td>0.017045</td>\n",
       "      <td>0.047088</td>\n",
       "      <td>0.046039</td>\n",
       "      <td>-0.079862</td>\n",
       "      <td>-0.127916</td>\n",
       "      <td>0.191741</td>\n",
       "      <td>...</td>\n",
       "      <td>0.064237</td>\n",
       "      <td>0.245902</td>\n",
       "      <td>-0.092701</td>\n",
       "      <td>NaN</td>\n",
       "      <td>-0.022847</td>\n",
       "      <td>0.002268</td>\n",
       "      <td>-0.001538</td>\n",
       "      <td>-0.000253</td>\n",
       "      <td>1.000000</td>\n",
       "      <td>0.042374</td>\n",
       "    </tr>\n",
       "    <tr>\n",
       "      <th>Sum_Quantity_1_Y</th>\n",
       "      <td>0.139958</td>\n",
       "      <td>0.007248</td>\n",
       "      <td>-0.096936</td>\n",
       "      <td>0.027279</td>\n",
       "      <td>0.379380</td>\n",
       "      <td>-0.124564</td>\n",
       "      <td>-0.125570</td>\n",
       "      <td>0.667559</td>\n",
       "      <td>0.686235</td>\n",
       "      <td>0.691566</td>\n",
       "      <td>...</td>\n",
       "      <td>-0.043397</td>\n",
       "      <td>0.109263</td>\n",
       "      <td>0.140019</td>\n",
       "      <td>NaN</td>\n",
       "      <td>-0.013335</td>\n",
       "      <td>-0.009450</td>\n",
       "      <td>0.002421</td>\n",
       "      <td>0.000965</td>\n",
       "      <td>0.042374</td>\n",
       "      <td>1.000000</td>\n",
       "    </tr>\n",
       "  </tbody>\n",
       "</table>\n",
       "<p>23 rows × 23 columns</p>\n",
       "</div>"
      ],
      "text/plain": [
       "                                   Customer_ID   Weeknum   Product  \\\n",
       "Customer_ID                           1.000000  0.007963 -0.008398   \n",
       "Weeknum                               0.007963  1.000000  0.006760   \n",
       "Product                              -0.008398  0.006760  1.000000   \n",
       "Customer_Number                       0.108949  0.002670 -0.007190   \n",
       "Sum_Quantity                          0.140236  0.005176 -0.099841   \n",
       "Avg_Price_Change                      0.018184  0.006797  0.144201   \n",
       "Avg_Price_Change_1                    0.017724  0.007296  0.144053   \n",
       "Sum_Quantity_1_minus_Sum_Quantity     0.074138  0.009902 -0.122658   \n",
       "Avg_Quantity_for_Week                 0.186231 -0.003235 -0.156349   \n",
       "Avg_Quantity_for_PO                   0.171686  0.000763 -0.098648   \n",
       "All_week                              0.185607  0.011295 -0.008279   \n",
       "Count_week_PO                         0.218207 -0.003736 -0.129772   \n",
       "Standard_Price                        0.018035  0.004717  0.145292   \n",
       "Above_Standard_Price                  0.014056  0.053596  0.022901   \n",
       "Below_Standard_Price                 -0.072639 -0.051498 -0.006279   \n",
       "Total_Quantity_for_Customer           0.999972  0.007939 -0.008322   \n",
       "Total_Quantity                             NaN       NaN       NaN   \n",
       "Holiday                              -0.001083 -0.394184 -0.003990   \n",
       "Temp_Hi                               0.008295  0.661595  0.005720   \n",
       "Temp_Lo                               0.011396  0.934874  0.007133   \n",
       "Temp_Rain                            -0.001207 -0.293873 -0.005286   \n",
       "Frequency_PO                         -0.092541  0.010034  0.093635   \n",
       "Sum_Quantity_1_Y                      0.139958  0.007248 -0.096936   \n",
       "\n",
       "                                   Customer_Number  Sum_Quantity  \\\n",
       "Customer_ID                               0.108949      0.140236   \n",
       "Weeknum                                   0.002670      0.005176   \n",
       "Product                                  -0.007190     -0.099841   \n",
       "Customer_Number                           1.000000      0.028880   \n",
       "Sum_Quantity                              0.028880      1.000000   \n",
       "Avg_Price_Change                         -0.006470     -0.123152   \n",
       "Avg_Price_Change_1                       -0.006354     -0.122806   \n",
       "Sum_Quantity_1_minus_Sum_Quantity         0.048882      0.395034   \n",
       "Avg_Quantity_for_Week                     0.041713      0.688745   \n",
       "Avg_Quantity_for_PO                       0.035374      0.678986   \n",
       "All_week                                 -0.005536     -0.008586   \n",
       "Count_week_PO                             0.002519      0.057851   \n",
       "Standard_Price                           -0.006462     -0.123925   \n",
       "Above_Standard_Price                     -0.006570      0.016830   \n",
       "Below_Standard_Price                     -0.002431     -0.190138   \n",
       "Total_Quantity_for_Customer               0.108633      0.140303   \n",
       "Total_Quantity                                 NaN           NaN   \n",
       "Holiday                                  -0.004465      0.010521   \n",
       "Temp_Hi                                   0.003573      0.008050   \n",
       "Temp_Lo                                   0.003193      0.002808   \n",
       "Temp_Rain                                -0.003758      0.000371   \n",
       "Frequency_PO                             -0.004053      0.017045   \n",
       "Sum_Quantity_1_Y                          0.027279      0.379380   \n",
       "\n",
       "                                   Avg_Price_Change  Avg_Price_Change_1  \\\n",
       "Customer_ID                                0.018184            0.017724   \n",
       "Weeknum                                    0.006797            0.007296   \n",
       "Product                                    0.144201            0.144053   \n",
       "Customer_Number                           -0.006470           -0.006354   \n",
       "Sum_Quantity                              -0.123152           -0.122806   \n",
       "Avg_Price_Change                           1.000000            0.998576   \n",
       "Avg_Price_Change_1                         0.998576            1.000000   \n",
       "Sum_Quantity_1_minus_Sum_Quantity         -0.060664           -0.061011   \n",
       "Avg_Quantity_for_Week                     -0.160904           -0.161069   \n",
       "Avg_Quantity_for_PO                       -0.166589           -0.167288   \n",
       "All_week                                  -0.032449           -0.032195   \n",
       "Count_week_PO                             -0.100175           -0.099164   \n",
       "Standard_Price                             0.999419            0.998593   \n",
       "Above_Standard_Price                       0.266395            0.256477   \n",
       "Below_Standard_Price                       0.014297            0.018494   \n",
       "Total_Quantity_for_Customer                0.018137            0.017679   \n",
       "Total_Quantity                                  NaN                 NaN   \n",
       "Holiday                                   -0.005217           -0.005652   \n",
       "Temp_Hi                                    0.005963            0.006879   \n",
       "Temp_Lo                                    0.007910            0.008276   \n",
       "Temp_Rain                                 -0.003508           -0.005344   \n",
       "Frequency_PO                               0.047088            0.046039   \n",
       "Sum_Quantity_1_Y                          -0.124564           -0.125570   \n",
       "\n",
       "                                   Sum_Quantity_1_minus_Sum_Quantity  \\\n",
       "Customer_ID                                                 0.074138   \n",
       "Weeknum                                                     0.009902   \n",
       "Product                                                    -0.122658   \n",
       "Customer_Number                                             0.048882   \n",
       "Sum_Quantity                                                0.395034   \n",
       "Avg_Price_Change                                           -0.060664   \n",
       "Avg_Price_Change_1                                         -0.061011   \n",
       "Sum_Quantity_1_minus_Sum_Quantity                           1.000000   \n",
       "Avg_Quantity_for_Week                                       0.608408   \n",
       "Avg_Quantity_for_PO                                         0.429966   \n",
       "All_week                                                    0.036344   \n",
       "Count_week_PO                                               0.144511   \n",
       "Standard_Price                                             -0.061029   \n",
       "Above_Standard_Price                                       -0.023968   \n",
       "Below_Standard_Price                                        0.031888   \n",
       "Total_Quantity_for_Customer                                 0.074183   \n",
       "Total_Quantity                                                   NaN   \n",
       "Holiday                                                    -0.016164   \n",
       "Temp_Hi                                                     0.001111   \n",
       "Temp_Lo                                                     0.007687   \n",
       "Temp_Rain                                                   0.001271   \n",
       "Frequency_PO                                               -0.079862   \n",
       "Sum_Quantity_1_Y                                            0.667559   \n",
       "\n",
       "                                   Avg_Quantity_for_Week  Avg_Quantity_for_PO  \\\n",
       "Customer_ID                                     0.186231             0.171686   \n",
       "Weeknum                                        -0.003235             0.000763   \n",
       "Product                                        -0.156349            -0.098648   \n",
       "Customer_Number                                 0.041713             0.035374   \n",
       "Sum_Quantity                                    0.688745             0.678986   \n",
       "Avg_Price_Change                               -0.160904            -0.166589   \n",
       "Avg_Price_Change_1                             -0.161069            -0.167288   \n",
       "Sum_Quantity_1_minus_Sum_Quantity               0.608408             0.429966   \n",
       "Avg_Quantity_for_Week                           1.000000             0.831337   \n",
       "Avg_Quantity_for_PO                             0.831337             1.000000   \n",
       "All_week                                       -0.016573            -0.083551   \n",
       "Count_week_PO                                   0.184176            -0.100589   \n",
       "Standard_Price                                 -0.162093            -0.167856   \n",
       "Above_Standard_Price                           -0.028203            -0.008412   \n",
       "Below_Standard_Price                           -0.063583             0.040116   \n",
       "Total_Quantity_for_Customer                     0.186335             0.171770   \n",
       "Total_Quantity                                       NaN                  NaN   \n",
       "Holiday                                         0.000096            -0.009004   \n",
       "Temp_Hi                                        -0.001732            -0.001172   \n",
       "Temp_Lo                                        -0.002391            -0.002082   \n",
       "Temp_Rain                                       0.003171             0.004711   \n",
       "Frequency_PO                                   -0.127916             0.191741   \n",
       "Sum_Quantity_1_Y                                0.686235             0.691566   \n",
       "\n",
       "                                         ...         Above_Standard_Price  \\\n",
       "Customer_ID                              ...                     0.014056   \n",
       "Weeknum                                  ...                     0.053596   \n",
       "Product                                  ...                     0.022901   \n",
       "Customer_Number                          ...                    -0.006570   \n",
       "Sum_Quantity                             ...                     0.016830   \n",
       "Avg_Price_Change                         ...                     0.266395   \n",
       "Avg_Price_Change_1                       ...                     0.256477   \n",
       "Sum_Quantity_1_minus_Sum_Quantity        ...                    -0.023968   \n",
       "Avg_Quantity_for_Week                    ...                    -0.028203   \n",
       "Avg_Quantity_for_PO                      ...                    -0.008412   \n",
       "All_week                                 ...                    -0.022375   \n",
       "Count_week_PO                            ...                    -0.085167   \n",
       "Standard_Price                           ...                     0.250764   \n",
       "Above_Standard_Price                     ...                     1.000000   \n",
       "Below_Standard_Price                     ...                    -0.130838   \n",
       "Total_Quantity_for_Customer              ...                     0.014030   \n",
       "Total_Quantity                           ...                          NaN   \n",
       "Holiday                                  ...                    -0.051379   \n",
       "Temp_Hi                                  ...                     0.014880   \n",
       "Temp_Lo                                  ...                     0.021390   \n",
       "Temp_Rain                                ...                    -0.030287   \n",
       "Frequency_PO                             ...                     0.064237   \n",
       "Sum_Quantity_1_Y                         ...                    -0.043397   \n",
       "\n",
       "                                   Below_Standard_Price  \\\n",
       "Customer_ID                                   -0.072639   \n",
       "Weeknum                                       -0.051498   \n",
       "Product                                       -0.006279   \n",
       "Customer_Number                               -0.002431   \n",
       "Sum_Quantity                                  -0.190138   \n",
       "Avg_Price_Change                               0.014297   \n",
       "Avg_Price_Change_1                             0.018494   \n",
       "Sum_Quantity_1_minus_Sum_Quantity              0.031888   \n",
       "Avg_Quantity_for_Week                         -0.063583   \n",
       "Avg_Quantity_for_PO                            0.040116   \n",
       "All_week                                      -0.135513   \n",
       "Count_week_PO                                 -0.320760   \n",
       "Standard_Price                                 0.023055   \n",
       "Above_Standard_Price                          -0.130838   \n",
       "Below_Standard_Price                           1.000000   \n",
       "Total_Quantity_for_Customer                   -0.072755   \n",
       "Total_Quantity                                      NaN   \n",
       "Holiday                                        0.011686   \n",
       "Temp_Hi                                       -0.039672   \n",
       "Temp_Lo                                       -0.050409   \n",
       "Temp_Rain                                     -0.016538   \n",
       "Frequency_PO                                   0.245902   \n",
       "Sum_Quantity_1_Y                               0.109263   \n",
       "\n",
       "                                   Total_Quantity_for_Customer  \\\n",
       "Customer_ID                                           0.999972   \n",
       "Weeknum                                               0.007939   \n",
       "Product                                              -0.008322   \n",
       "Customer_Number                                       0.108633   \n",
       "Sum_Quantity                                          0.140303   \n",
       "Avg_Price_Change                                      0.018137   \n",
       "Avg_Price_Change_1                                    0.017679   \n",
       "Sum_Quantity_1_minus_Sum_Quantity                     0.074183   \n",
       "Avg_Quantity_for_Week                                 0.186335   \n",
       "Avg_Quantity_for_PO                                   0.171770   \n",
       "All_week                                              0.185688   \n",
       "Count_week_PO                                         0.218470   \n",
       "Standard_Price                                        0.017989   \n",
       "Above_Standard_Price                                  0.014030   \n",
       "Below_Standard_Price                                 -0.072755   \n",
       "Total_Quantity_for_Customer                           1.000000   \n",
       "Total_Quantity                                             NaN   \n",
       "Holiday                                              -0.001055   \n",
       "Temp_Hi                                               0.008273   \n",
       "Temp_Lo                                               0.011381   \n",
       "Temp_Rain                                            -0.001186   \n",
       "Frequency_PO                                         -0.092701   \n",
       "Sum_Quantity_1_Y                                      0.140019   \n",
       "\n",
       "                                   Total_Quantity   Holiday   Temp_Hi  \\\n",
       "Customer_ID                                   NaN -0.001083  0.008295   \n",
       "Weeknum                                       NaN -0.394184  0.661595   \n",
       "Product                                       NaN -0.003990  0.005720   \n",
       "Customer_Number                               NaN -0.004465  0.003573   \n",
       "Sum_Quantity                                  NaN  0.010521  0.008050   \n",
       "Avg_Price_Change                              NaN -0.005217  0.005963   \n",
       "Avg_Price_Change_1                            NaN -0.005652  0.006879   \n",
       "Sum_Quantity_1_minus_Sum_Quantity             NaN -0.016164  0.001111   \n",
       "Avg_Quantity_for_Week                         NaN  0.000096 -0.001732   \n",
       "Avg_Quantity_for_PO                           NaN -0.009004 -0.001172   \n",
       "All_week                                      NaN -0.017508  0.012326   \n",
       "Count_week_PO                                 NaN  0.004828  0.002284   \n",
       "Standard_Price                                NaN -0.004517  0.005381   \n",
       "Above_Standard_Price                          NaN -0.051379  0.014880   \n",
       "Below_Standard_Price                          NaN  0.011686 -0.039672   \n",
       "Total_Quantity_for_Customer                   NaN -0.001055  0.008273   \n",
       "Total_Quantity                                NaN       NaN       NaN   \n",
       "Holiday                                       NaN  1.000000 -0.172683   \n",
       "Temp_Hi                                       NaN -0.172683  1.000000   \n",
       "Temp_Lo                                       NaN -0.307486  0.798681   \n",
       "Temp_Rain                                     NaN  0.076156 -0.504879   \n",
       "Frequency_PO                                  NaN -0.022847  0.002268   \n",
       "Sum_Quantity_1_Y                              NaN -0.013335 -0.009450   \n",
       "\n",
       "                                    Temp_Lo  Temp_Rain  Frequency_PO  \\\n",
       "Customer_ID                        0.011396  -0.001207     -0.092541   \n",
       "Weeknum                            0.934874  -0.293873      0.010034   \n",
       "Product                            0.007133  -0.005286      0.093635   \n",
       "Customer_Number                    0.003193  -0.003758     -0.004053   \n",
       "Sum_Quantity                       0.002808   0.000371      0.017045   \n",
       "Avg_Price_Change                   0.007910  -0.003508      0.047088   \n",
       "Avg_Price_Change_1                 0.008276  -0.005344      0.046039   \n",
       "Sum_Quantity_1_minus_Sum_Quantity  0.007687   0.001271     -0.079862   \n",
       "Avg_Quantity_for_Week             -0.002391   0.003171     -0.127916   \n",
       "Avg_Quantity_for_PO               -0.002082   0.004711      0.191741   \n",
       "All_week                           0.010987  -0.012086     -0.176923   \n",
       "Count_week_PO                      0.001965  -0.005044     -0.706861   \n",
       "Standard_Price                     0.006571  -0.003307      0.046446   \n",
       "Above_Standard_Price               0.021390  -0.030287      0.064237   \n",
       "Below_Standard_Price              -0.050409  -0.016538      0.245902   \n",
       "Total_Quantity_for_Customer        0.011381  -0.001186     -0.092701   \n",
       "Total_Quantity                          NaN        NaN           NaN   \n",
       "Holiday                           -0.307486   0.076156     -0.022847   \n",
       "Temp_Hi                            0.798681  -0.504879      0.002268   \n",
       "Temp_Lo                            1.000000  -0.370303     -0.001538   \n",
       "Temp_Rain                         -0.370303   1.000000     -0.000253   \n",
       "Frequency_PO                      -0.001538  -0.000253      1.000000   \n",
       "Sum_Quantity_1_Y                   0.002421   0.000965      0.042374   \n",
       "\n",
       "                                   Sum_Quantity_1_Y  \n",
       "Customer_ID                                0.139958  \n",
       "Weeknum                                    0.007248  \n",
       "Product                                   -0.096936  \n",
       "Customer_Number                            0.027279  \n",
       "Sum_Quantity                               0.379380  \n",
       "Avg_Price_Change                          -0.124564  \n",
       "Avg_Price_Change_1                        -0.125570  \n",
       "Sum_Quantity_1_minus_Sum_Quantity          0.667559  \n",
       "Avg_Quantity_for_Week                      0.686235  \n",
       "Avg_Quantity_for_PO                        0.691566  \n",
       "All_week                                  -0.009138  \n",
       "Count_week_PO                              0.048599  \n",
       "Standard_Price                            -0.125453  \n",
       "Above_Standard_Price                      -0.043397  \n",
       "Below_Standard_Price                       0.109263  \n",
       "Total_Quantity_for_Customer                0.140019  \n",
       "Total_Quantity                                  NaN  \n",
       "Holiday                                   -0.013335  \n",
       "Temp_Hi                                   -0.009450  \n",
       "Temp_Lo                                    0.002421  \n",
       "Temp_Rain                                  0.000965  \n",
       "Frequency_PO                               0.042374  \n",
       "Sum_Quantity_1_Y                           1.000000  \n",
       "\n",
       "[23 rows x 23 columns]"
      ]
     },
     "execution_count": 202,
     "metadata": {},
     "output_type": "execute_result"
    }
   ],
   "source": [
    "## present the corelletion (+1 or -1 implying corelation where exeact -1 or 1 implaying linear corr; 0 implying NO corr)\n",
    "df = pd.DataFrame(data=Data)\n",
    "df.corr()"
   ]
  },
  {
   "cell_type": "code",
   "execution_count": 98,
   "metadata": {},
   "outputs": [],
   "source": [
    "show_corr = df.corr()"
   ]
  },
  {
   "cell_type": "code",
   "execution_count": 99,
   "metadata": {},
   "outputs": [
    {
     "data": {
      "image/png": "[encoded data removed]",
      "text/plain": [
       "<Figure size 432x288 with 1 Axes>"
      ]
     },
     "metadata": {
      "needs_background": "light"
     },
     "output_type": "display_data"
    }
   ],
   "source": [
    "plt.plot(show_corr['Sum_Quantity_1_Y'], 'ro')\n",
    "plt.show()"
   ]
  },
  {
   "cell_type": "raw",
   "metadata": {},
   "source": [
    "## Forcast calculation "
   ]
  },
  {
   "cell_type": "code",
   "execution_count": 17,
   "metadata": {},
   "outputs": [],
   "source": [
    "y = Data.values[:, -1]\n",
    "x = Data.values[:, 2:-1]"
   ]
  },
  {
   "cell_type": "code",
   "execution_count": 18,
   "metadata": {},
   "outputs": [],
   "source": [
    "indexes = [x for x in range(len(y))]\n",
    "shuffle(indexes)\n",
    "border = int(0.10 * len(indexes))\n",
    "test_indx = indexes[: border]\n",
    "train_indx = indexes[border :]"
   ]
  },
  {
   "cell_type": "code",
   "execution_count": 19,
   "metadata": {},
   "outputs": [
    {
     "data": {
      "text/plain": [
       "Customer_ID                          float64\n",
       "Weeknum                                int64\n",
       "Product                                int64\n",
       "Customer_Number                        int64\n",
       "Sum_Quantity                           int64\n",
       "Avg_Price_Change                     float64\n",
       "Avg_Price_Change_1                   float64\n",
       "Sum_Quantity_1_minus_Sum_Quantity      int64\n",
       "Avg_Quantity_for_Week                float64\n",
       "Avg_Quantity_for_PO                  float64\n",
       "All_week                               int64\n",
       "Count_week_PO                          int64\n",
       "Standard_Price                       float64\n",
       "Above_Standard_Price                   int64\n",
       "Below_Standard_Price                   int64\n",
       "Total_Quantity_for_Customer            int64\n",
       "Total_Quantity                         int64\n",
       "Holiday                                int64\n",
       "Temp_Hi                              float64\n",
       "Temp_Lo                              float64\n",
       "Temp_Rain                              int64\n",
       "Frequency_PO                         float64\n",
       "Sum_Quantity_1_Y                       int64\n",
       "dtype: object"
      ]
     },
     "execution_count": 19,
     "metadata": {},
     "output_type": "execute_result"
    }
   ],
   "source": [
    "x_train = x[train_indx]\n",
    "x_test = x[test_indx]\n",
    "y_train = y[train_indx]\n",
    "y_test = y[test_indx]\n",
    "Data.dtypes"
   ]
  },
  {
   "cell_type": "code",
   "execution_count": 20,
   "metadata": {
    "scrolled": true
   },
   "outputs": [
    {
     "data": {
      "text/plain": [
       "107077"
      ]
     },
     "execution_count": 20,
     "metadata": {},
     "output_type": "execute_result"
    }
   ],
   "source": [
    "# Train number of line (90%)\n",
    "len (x_train)"
   ]
  },
  {
   "cell_type": "code",
   "execution_count": 21,
   "metadata": {},
   "outputs": [
    {
     "data": {
      "text/plain": [
       "11897"
      ]
     },
     "execution_count": 21,
     "metadata": {},
     "output_type": "execute_result"
    }
   ],
   "source": [
    "#test number of lines (10%)\n",
    "len (x_test)"
   ]
  },
  {
   "cell_type": "code",
   "execution_count": 22,
   "metadata": {},
   "outputs": [
    {
     "name": "stdout",
     "output_type": "stream",
     "text": [
      "acc linear 462\n",
      "MAE linear 14.363116752122384\n"
     ]
    }
   ],
   "source": [
    "mod_linear = LinearRegression(n_jobs=-1)\n",
    "mod_linear.fit(x_train, y_train)\n",
    "pred_linear = mod_linear.predict(x_test)\n",
    "pred_linear = np.round(pred_linear)\n",
    "## pred_linear_cvs = mod_linear.predict(csvTest) ## write to file\n",
    "acc_linear=accuracy_score(y_test, pred_linear, normalize=False)\n",
    "print(\"acc linear\", acc_linear)\n",
    "mae_linear = mean_absolute_error(y_test, pred_linear)\n",
    "print(\"MAE linear\", mae_linear)"
   ]
  },
  {
   "cell_type": "code",
   "execution_count": 23,
   "metadata": {},
   "outputs": [
    {
     "data": {
      "image/png": "[encoded data removed]",
      "text/plain": [
       "<Figure size 432x288 with 1 Axes>"
      ]
     },
     "metadata": {},
     "output_type": "display_data"
    }
   ],
   "source": [
    "sns.scatterplot(x=y_test, y=y_test, color=\"black\")\n",
    "sns.scatterplot(x=y_test, y=pred_linear, color=\"red\")\n",
    "plt.show()"
   ]
  },
  {
   "cell_type": "code",
   "execution_count": 24,
   "metadata": {},
   "outputs": [
    {
     "name": "stdout",
     "output_type": "stream",
     "text": [
      "acc svm 2748\n",
      "MAE svm 29.553668992182903\n"
     ]
    }
   ],
   "source": [
    "mod_svm = svm.SVC (kernel='sigmoid',gamma=3 ,probability=False, random_state=0)\n",
    "y_pred_svm = mod_svm.fit(x_train,y_train)\n",
    "pred_svm = mod_svm.predict(x_test)\n",
    "## pred_svm_cvs = mod_svm.predict(csvTest) ## write to file\n",
    "acc_svm=accuracy_score(y_test,pred_svm, normalize=False)\n",
    "print(\"acc svm\", acc_svm)\n",
    "mae_svm = mean_absolute_error(y_test, pred_svm)\n",
    "print(\"MAE svm\",mae_svm)"
   ]
  },
  {
   "cell_type": "code",
   "execution_count": 25,
   "metadata": {},
   "outputs": [],
   "source": [
    "## using sigmoid \n",
    "## Acc 2741\n",
    "## MAE 29.0724"
   ]
  },
  {
   "cell_type": "code",
   "execution_count": 26,
   "metadata": {},
   "outputs": [
    {
     "data": {
      "image/png": "[encoded data removed]",
      "text/plain": [
       "<Figure size 432x288 with 1 Axes>"
      ]
     },
     "metadata": {},
     "output_type": "display_data"
    }
   ],
   "source": [
    "sns.scatterplot(x=y_test, y=y_test, color=\"black\")\n",
    "sns.scatterplot(x=y_test, y=pred_svm, color=\"blue\")\n",
    "plt.show()"
   ]
  },
  {
   "cell_type": "code",
   "execution_count": 27,
   "metadata": {},
   "outputs": [
    {
     "name": "stdout",
     "output_type": "stream",
     "text": [
      "acc AdaBoost 1510\n",
      "mea AdaBoost 25.31949230898546\n"
     ]
    }
   ],
   "source": [
    "from sklearn.ensemble import AdaBoostClassifier\n",
    "mod_rforest = AdaBoostClassifier(random_state=2, algorithm='SAMME.R', n_estimators=50)\n",
    "y_pred_AdaBoost = mod_rforest.fit(x_train,y_train)\n",
    "pred_AdaBoost = mod_rforest.predict(x_test)\n",
    "#pred_adaBoost_cvs = mod_rforest.predict(csvTest) \n",
    "acc_adaBoost = accuracy_score(y_test,pred_AdaBoost, normalize=False)\n",
    "print(\"acc AdaBoost\", acc_adaBoost)\n",
    "mea_adaBoost = mean_absolute_error(y_test,pred_AdaBoost)\n",
    "print(\"mea AdaBoost\", mea_adaBoost)"
   ]
  },
  {
   "cell_type": "code",
   "execution_count": 28,
   "metadata": {},
   "outputs": [
    {
     "data": {
      "image/png": "[encoded data removed]",
      "text/plain": [
       "<Figure size 432x288 with 1 Axes>"
      ]
     },
     "metadata": {},
     "output_type": "display_data"
    }
   ],
   "source": [
    "sns.scatterplot(x=y_test, y=y_test, color=\"black\")\n",
    "sns.scatterplot(x=y_test, y=pred_AdaBoost, color=\"blue\")\n",
    "plt.show()"
   ]
  },
  {
   "cell_type": "code",
   "execution_count": 29,
   "metadata": {},
   "outputs": [
    {
     "name": "stdout",
     "output_type": "stream",
     "text": [
      "acc naive 6\n",
      "MAE naive 172.66520971673532\n"
     ]
    }
   ],
   "source": [
    "from sklearn.naive_bayes import GaussianNB\n",
    "mod_bayes = GaussianNB()\n",
    "y_pred_naive = mod_bayes.fit(x_train,y_train)\n",
    "pred_naive = mod_bayes.predict(x_test)\n",
    "acc_naive=accuracy_score(y_test, pred_naive, normalize=False)\n",
    "print(\"acc naive\", acc_naive)\n",
    "mae_naive = mean_absolute_error(y_test, pred_naive)\n",
    "print(\"MAE naive\", mae_naive)"
   ]
  },
  {
   "cell_type": "code",
   "execution_count": 30,
   "metadata": {},
   "outputs": [
    {
     "data": {
      "image/png": "[encoded data removed]",
      "text/plain": [
       "<Figure size 432x288 with 1 Axes>"
      ]
     },
     "metadata": {},
     "output_type": "display_data"
    }
   ],
   "source": [
    "sns.scatterplot(x=y_test, y=y_test, color=\"black\")\n",
    "sns.scatterplot(x=y_test, y=acc_naive, color=\"green\")\n",
    "plt.show()"
   ]
  },
  {
   "cell_type": "code",
   "execution_count": 31,
   "metadata": {},
   "outputs": [
    {
     "name": "stdout",
     "output_type": "stream",
     "text": [
      "acc logistic 2748\n",
      "MAE logistic 29.553668992182903\n"
     ]
    }
   ],
   "source": [
    "from sklearn.linear_model import LogisticRegression\n",
    "mod_logistic = LogisticRegression()\n",
    "mod_logistic.fit(x_train,y_train)\n",
    "pred_logistic = mod_logistic.predict(x_test)\n",
    "acc_logistic=accuracy_score(y_test, pred_logistic, normalize=False)\n",
    "print(\"acc logistic\", acc_logistic)\n",
    "mae_logistic = mean_absolute_error(y_test, pred_logistic)\n",
    "print(\"MAE logistic\", mae_logistic)"
   ]
  },
  {
   "cell_type": "code",
   "execution_count": 32,
   "metadata": {},
   "outputs": [
    {
     "data": {
      "image/png": "[encoded data removed]",
      "text/plain": [
       "<Figure size 432x288 with 1 Axes>"
      ]
     },
     "metadata": {},
     "output_type": "display_data"
    }
   ],
   "source": [
    "sns.scatterplot(x=y_test, y=y_test, color=\"black\")\n",
    "sns.scatterplot(x=y_test, y=pred_logistic, color=\"green\")\n",
    "plt.show()"
   ]
  },
  {
   "cell_type": "markdown",
   "metadata": {},
   "source": [
    "## Initiate a new database of high corelation columns "
   ]
  },
  {
   "cell_type": "code",
   "execution_count": 33,
   "metadata": {},
   "outputs": [
    {
     "name": "stdout",
     "output_type": "stream",
     "text": [
      "        Customer_ID  Weeknum        Product  Customer_Number  Sum_Quantity  \\\n",
      "0            0.0048       11             17        416000001            33   \n",
      "1            0.0048       12             17        416000001            44   \n",
      "2            0.0048       13             17        416000001            33   \n",
      "3            0.0048       14             17        416000001             0   \n",
      "4            0.0048       15             17        416000001             3   \n",
      "5            0.0048       16             17        416000001            30   \n",
      "6            0.0048       17             17        416000001             3   \n",
      "7            0.0048       18             17        416000001            92   \n",
      "8            0.0048       19             17        416000001            33   \n",
      "9            0.0048       20             17        416000001            50   \n",
      "10           0.0048       21             17        416000001            17   \n",
      "11           0.0048       22             17        416000001            50   \n",
      "12           0.0048       23             17        416000001            55   \n",
      "13           0.0048       24             17        416000001            49   \n",
      "14           0.0048       25             17        416000001            33   \n",
      "15           0.0048       26             17        416000001            68   \n",
      "16           0.0048       27             17        416000001            33   \n",
      "17           0.0048       28             17        416000001            70   \n",
      "18           0.0048       29             17        416000001            33   \n",
      "19           0.0048       30             17        416000001            55   \n",
      "20           0.0048       31             17        416000001            33   \n",
      "21           0.0048       32             17        416000001            33   \n",
      "22           0.0048       33             17        416000001            33   \n",
      "23           0.0048       34             17        416000001            77   \n",
      "24           0.0053       11             17        416000002            40   \n",
      "25           0.0053       12             17        416000002            69   \n",
      "26           0.0053       14             17        416000002             0   \n",
      "27           0.0053       15             17        416000002            26   \n",
      "28           0.0053       16             17        416000002            36   \n",
      "29           0.0053       17             17        416000002            10   \n",
      "...             ...      ...            ...              ...           ...   \n",
      "118944       0.0023       26  7290107932080        416100047            12   \n",
      "118945       0.0023       28  7290107932080        416100047             0   \n",
      "118946       0.0023       29  7290107932080        416100047            16   \n",
      "118947       0.0023       30  7290107932080        416100047            12   \n",
      "118948       0.0023       31  7290107932080        416100047             0   \n",
      "118949       0.0023       32  7290107932080        416100047             6   \n",
      "118950       0.0023       33  7290107932080        416100047            12   \n",
      "118951       0.0023       34  7290107932080        416100047            12   \n",
      "118952       0.0044       11  7290107932080        416200101             0   \n",
      "118953       0.0044       12  7290107932080        416200101             9   \n",
      "118954       0.0044       13  7290107932080        416200101             0   \n",
      "118955       0.0044       14  7290107932080        416200101             6   \n",
      "118956       0.0044       15  7290107932080        416200101             6   \n",
      "118957       0.0044       16  7290107932080        416200101             0   \n",
      "118958       0.0044       17  7290107932080        416200101             6   \n",
      "118959       0.0044       18  7290107932080        416200101             6   \n",
      "118960       0.0044       19  7290107932080        416200101             0   \n",
      "118961       0.0044       20  7290107932080        416200101             3   \n",
      "118962       0.0044       21  7290107932080        416200101             0   \n",
      "118963       0.0044       22  7290107932080        416200101            10   \n",
      "118964       0.0044       24  7290107932080        416200101             0   \n",
      "118965       0.0044       25  7290107932080        416200101             6   \n",
      "118966       0.0044       26  7290107932080        416200101             6   \n",
      "118967       0.0044       28  7290107932080        416200101             0   \n",
      "118968       0.0044       29  7290107932080        416200101            18   \n",
      "118969       0.0044       30  7290107932080        416200101             0   \n",
      "118970       0.0044       31  7290107932080        416200101             3   \n",
      "118971       0.0044       32  7290107932080        416200101             6   \n",
      "118972       0.0044       33  7290107932080        416200101             3   \n",
      "118973       0.0044       34  7290107932080        416200101            12   \n",
      "\n",
      "        Avg_Price_Change  Avg_Price_Change_1  \\\n",
      "0                   3.61                3.61   \n",
      "1                   3.61                3.61   \n",
      "2                   3.61                3.65   \n",
      "3                   3.65                3.61   \n",
      "4                   3.61                3.61   \n",
      "5                   3.61                3.61   \n",
      "6                   3.61                3.61   \n",
      "7                   3.61                3.61   \n",
      "8                   3.61                3.61   \n",
      "9                   3.61                3.61   \n",
      "10                  3.61                3.62   \n",
      "11                  3.65                3.65   \n",
      "12                  3.65                3.65   \n",
      "13                  3.65                3.65   \n",
      "14                  3.65                3.65   \n",
      "15                  3.65                3.65   \n",
      "16                  3.65                3.65   \n",
      "17                  3.65                3.65   \n",
      "18                  3.65                3.65   \n",
      "19                  3.65                3.65   \n",
      "20                  3.65                3.65   \n",
      "21                  3.65                3.65   \n",
      "22                  3.65                3.65   \n",
      "23                  3.65                3.65   \n",
      "24                  3.61                3.61   \n",
      "25                  3.61                3.65   \n",
      "26                  3.65                3.61   \n",
      "27                  3.61                3.61   \n",
      "28                  3.61                3.61   \n",
      "29                  3.61                3.61   \n",
      "...                  ...                 ...   \n",
      "118944              5.28                5.28   \n",
      "118945              5.28                5.28   \n",
      "118946              5.28                5.28   \n",
      "118947              5.28                5.28   \n",
      "118948              5.28                4.48   \n",
      "118949              4.48                4.48   \n",
      "118950              4.48                5.28   \n",
      "118951              5.28                5.28   \n",
      "118952              5.28                5.28   \n",
      "118953              5.28                5.28   \n",
      "118954              5.28                5.28   \n",
      "118955              5.28                5.28   \n",
      "118956              5.28                5.28   \n",
      "118957              5.28                5.28   \n",
      "118958              5.28                5.28   \n",
      "118959              5.28                5.28   \n",
      "118960              5.28                5.28   \n",
      "118961              5.28                5.28   \n",
      "118962              5.28                5.28   \n",
      "118963              5.28                5.28   \n",
      "118964              5.28                5.28   \n",
      "118965              5.28                5.28   \n",
      "118966              5.28                5.28   \n",
      "118967              5.28                5.28   \n",
      "118968              5.28                5.28   \n",
      "118969              5.28                5.28   \n",
      "118970              5.28                4.48   \n",
      "118971              4.48                4.48   \n",
      "118972              4.48                5.28   \n",
      "118973              5.28                5.28   \n",
      "\n",
      "        Sum_Quantity_1_minus_Sum_Quantity  Avg_Quantity_for_PO  All_week  \\\n",
      "0                                      55                41.74        23   \n",
      "1                                      55                41.74        23   \n",
      "2                                     -33                41.74        23   \n",
      "3                                       3                41.74        23   \n",
      "4                                      27                41.74        23   \n",
      "5                                     -27                41.74        23   \n",
      "6                                      89                41.74        23   \n",
      "7                                      40                41.74        23   \n",
      "8                                      67                41.74        23   \n",
      "9                                       1                41.74        23   \n",
      "10                                     83                41.74        23   \n",
      "11                                    115                41.74        23   \n",
      "12                                     92                41.74        23   \n",
      "13                                     50                41.74        23   \n",
      "14                                    103                41.74        23   \n",
      "15                                     31                41.74        23   \n",
      "16                                    107                41.74        23   \n",
      "17                                     29                41.74        23   \n",
      "18                                     77                41.74        23   \n",
      "19                                     44                41.74        23   \n",
      "20                                     33                41.74        23   \n",
      "21                                     33                41.74        23   \n",
      "22                                    121                41.74        23   \n",
      "23                                     64                41.74        23   \n",
      "24                                     98                44.41        23   \n",
      "25                                    -69                44.41        23   \n",
      "26                                     26                44.41        23   \n",
      "27                                     46                44.41        23   \n",
      "28                                    -16                44.41        23   \n",
      "29                                     38                44.41        23   \n",
      "...                                   ...                  ...       ...   \n",
      "118944                                -12                12.50        13   \n",
      "118945                                 16                12.50        13   \n",
      "118946                                  8                12.50        13   \n",
      "118947                                -12                12.50        13   \n",
      "118948                                  6                12.50        13   \n",
      "118949                                  6                12.50        13   \n",
      "118950                                  0                12.50        13   \n",
      "118951                                -12                12.50        13   \n",
      "118952                                  9                 7.14        23   \n",
      "118953                                 -9                 7.14        23   \n",
      "118954                                  6                 7.14        23   \n",
      "118955                                  0                 7.14        23   \n",
      "118956                                 -6                 7.14        23   \n",
      "118957                                  6                 7.14        23   \n",
      "118958                                  0                 7.14        23   \n",
      "118959                                 -6                 7.14        23   \n",
      "118960                                  3                 7.14        23   \n",
      "118961                                 -3                 7.14        23   \n",
      "118962                                 10                 7.14        23   \n",
      "118963                                -10                 7.14        23   \n",
      "118964                                  6                 7.14        23   \n",
      "118965                                  0                 7.14        23   \n",
      "118966                                 -6                 7.14        23   \n",
      "118967                                 18                 7.14        23   \n",
      "118968                                -18                 7.14        23   \n",
      "118969                                  3                 7.14        23   \n",
      "118970                                  3                 7.14        23   \n",
      "118971                                 -3                 7.14        23   \n",
      "118972                                  9                 7.14        23   \n",
      "118973                                  0                 7.14        23   \n",
      "\n",
      "        Count_week_PO  Standard_Price  Above_Standard_Price  \\\n",
      "0                  23            3.65                     0   \n",
      "1                  23            3.65                     0   \n",
      "2                  23            3.65                     0   \n",
      "3                  23            3.65                     0   \n",
      "4                  23            3.65                     0   \n",
      "5                  23            3.65                     0   \n",
      "6                  23            3.65                     0   \n",
      "7                  23            3.65                     0   \n",
      "8                  23            3.65                     0   \n",
      "9                  23            3.65                     0   \n",
      "10                 23            3.65                     0   \n",
      "11                 23            3.65                     0   \n",
      "12                 23            3.65                     0   \n",
      "13                 23            3.65                     0   \n",
      "14                 23            3.65                     0   \n",
      "15                 23            3.65                     0   \n",
      "16                 23            3.65                     0   \n",
      "17                 23            3.65                     0   \n",
      "18                 23            3.65                     0   \n",
      "19                 23            3.65                     0   \n",
      "20                 23            3.65                     0   \n",
      "21                 23            3.65                     0   \n",
      "22                 23            3.65                     0   \n",
      "23                 23            3.65                     0   \n",
      "24                 22            3.65                     0   \n",
      "25                 22            3.65                     0   \n",
      "26                 22            3.65                     0   \n",
      "27                 22            3.65                     0   \n",
      "28                 22            3.65                     0   \n",
      "29                 22            3.65                     0   \n",
      "...               ...             ...                   ...   \n",
      "118944              8            5.28                     0   \n",
      "118945              8            5.28                     0   \n",
      "118946              8            5.28                     0   \n",
      "118947              8            5.28                     0   \n",
      "118948              8            5.28                     0   \n",
      "118949              8            5.28                     0   \n",
      "118950              8            5.28                     0   \n",
      "118951              8            5.28                     0   \n",
      "118952             14            5.28                     0   \n",
      "118953             14            5.28                     0   \n",
      "118954             14            5.28                     0   \n",
      "118955             14            5.28                     0   \n",
      "118956             14            5.28                     0   \n",
      "118957             14            5.28                     0   \n",
      "118958             14            5.28                     0   \n",
      "118959             14            5.28                     0   \n",
      "118960             14            5.28                     0   \n",
      "118961             14            5.28                     0   \n",
      "118962             14            5.28                     0   \n",
      "118963             14            5.28                     0   \n",
      "118964             14            5.28                     0   \n",
      "118965             14            5.28                     0   \n",
      "118966             14            5.28                     0   \n",
      "118967             14            5.28                     0   \n",
      "118968             14            5.28                     0   \n",
      "118969             14            5.28                     0   \n",
      "118970             14            5.28                     0   \n",
      "118971             14            5.28                     0   \n",
      "118972             14            5.28                     0   \n",
      "118973             14            5.28                     0   \n",
      "\n",
      "        Total_Quantity_for_Customer  Frequency_PO  Sum_Quantity_1_Y  \n",
      "0                             60916          1.00                44  \n",
      "1                             60916          1.00                33  \n",
      "2                             60916          1.00                 0  \n",
      "3                             60916          1.00                 3  \n",
      "4                             60916          1.00                30  \n",
      "5                             60916          1.00                 3  \n",
      "6                             60916          1.00                92  \n",
      "7                             60916          1.00                33  \n",
      "8                             60916          1.00                50  \n",
      "9                             60916          1.00                17  \n",
      "10                            60916          1.00                50  \n",
      "11                            60916          1.00                55  \n",
      "12                            60916          1.00                49  \n",
      "13                            60916          1.00                33  \n",
      "14                            60916          1.00                68  \n",
      "15                            60916          1.00                33  \n",
      "16                            60916          1.00                70  \n",
      "17                            60916          1.00                33  \n",
      "18                            60916          1.00                55  \n",
      "19                            60916          1.00                33  \n",
      "20                            60916          1.00                33  \n",
      "21                            60916          1.00                33  \n",
      "22                            60916          1.00                77  \n",
      "23                            60916          1.00                47  \n",
      "24                            67778          1.05                69  \n",
      "25                            67778          1.05                 0  \n",
      "26                            67778          1.05                26  \n",
      "27                            67778          1.05                36  \n",
      "28                            67778          1.05                10  \n",
      "29                            67778          1.05                48  \n",
      "...                             ...           ...               ...  \n",
      "118944                        29107          1.63                 0  \n",
      "118945                        29107          1.63                16  \n",
      "118946                        29107          1.63                12  \n",
      "118947                        29107          1.63                 0  \n",
      "118948                        29107          1.63                 6  \n",
      "118949                        29107          1.63                12  \n",
      "118950                        29107          1.63                12  \n",
      "118951                        29107          1.63                 0  \n",
      "118952                        55613          1.64                 9  \n",
      "118953                        55613          1.64                 0  \n",
      "118954                        55613          1.64                 6  \n",
      "118955                        55613          1.64                 6  \n",
      "118956                        55613          1.64                 0  \n",
      "118957                        55613          1.64                 6  \n",
      "118958                        55613          1.64                 6  \n",
      "118959                        55613          1.64                 0  \n",
      "118960                        55613          1.64                 3  \n",
      "118961                        55613          1.64                 0  \n",
      "118962                        55613          1.64                10  \n",
      "118963                        55613          1.64                 0  \n",
      "118964                        55613          1.64                 6  \n",
      "118965                        55613          1.64                 6  \n",
      "118966                        55613          1.64                 0  \n",
      "118967                        55613          1.64                18  \n",
      "118968                        55613          1.64                 0  \n",
      "118969                        55613          1.64                 3  \n",
      "118970                        55613          1.64                 6  \n",
      "118971                        55613          1.64                 3  \n",
      "118972                        55613          1.64                12  \n",
      "118973                        55613          1.64                12  \n",
      "\n",
      "[118974 rows x 16 columns]\n"
     ]
    }
   ],
   "source": [
    "## it was a try to minimize the DB in order to get a P value for Y (Sum_Quantity_1_Y), however our Y is not a category \n",
    "\n",
    "DropData = Data.drop(columns=['Avg_Quantity_for_Week','Below_Standard_Price','Total_Quantity','Holiday','Temp_Hi','Temp_Lo','Temp_Rain'])\n",
    "print(DropData)"
   ]
  },
  {
   "cell_type": "code",
   "execution_count": 34,
   "metadata": {},
   "outputs": [
    {
     "data": {
      "text/plain": [
       "Customer_ID                          float64\n",
       "Weeknum                                int64\n",
       "Product                                int64\n",
       "Customer_Number                        int64\n",
       "Sum_Quantity                           int64\n",
       "Avg_Price_Change                     float64\n",
       "Avg_Price_Change_1                   float64\n",
       "Sum_Quantity_1_minus_Sum_Quantity      int64\n",
       "Avg_Quantity_for_PO                  float64\n",
       "All_week                               int64\n",
       "Count_week_PO                          int64\n",
       "Standard_Price                       float64\n",
       "Above_Standard_Price                   int64\n",
       "Total_Quantity_for_Customer            int64\n",
       "Frequency_PO                         float64\n",
       "Sum_Quantity_1_Y                       int64\n",
       "dtype: object"
      ]
     },
     "execution_count": 34,
     "metadata": {},
     "output_type": "execute_result"
    }
   ],
   "source": [
    "DropData.dtypes"
   ]
  },
  {
   "cell_type": "code",
   "execution_count": 35,
   "metadata": {},
   "outputs": [],
   "source": [
    "y2 = DropData.values[:, -1]\n",
    "x2 = DropData.values[:, 2:-1]"
   ]
  },
  {
   "cell_type": "code",
   "execution_count": 36,
   "metadata": {},
   "outputs": [],
   "source": [
    "indexes = [x2 for x2 in range(len(y))]\n",
    "shuffle(indexes)\n",
    "border = int(0.10 * len(indexes))\n",
    "test_indx = indexes[: border]\n",
    "train_indx = indexes[border :]\n",
    "\n",
    "x2_train = x2[train_indx]\n",
    "x2_test = x2[test_indx]\n",
    "y2_train = y2[train_indx]\n",
    "y2_test = y2[test_indx]"
   ]
  },
  {
   "cell_type": "code",
   "execution_count": 37,
   "metadata": {},
   "outputs": [
    {
     "name": "stdout",
     "output_type": "stream",
     "text": [
      "acc AdaBoost 1546\n",
      "mea AdaBoost 25.791712196352023\n"
     ]
    }
   ],
   "source": [
    "from sklearn.ensemble import AdaBoostClassifier\n",
    "mod_rforest = AdaBoostClassifier(random_state=2, algorithm='SAMME.R', n_estimators=50)\n",
    "y2_pred_AdaBoost = mod_rforest.fit(x2_train,y2_train)\n",
    "pred_AdaBoost = mod_rforest.predict(x2_test)\n",
    "#pred_adaBoost_cvs = mod_rforest.predict(csvTest) \n",
    "acc_adaBoost = accuracy_score(y2_test,pred_AdaBoost, normalize=False)\n",
    "print(\"acc AdaBoost\", acc_adaBoost)\n",
    "mea_adaBoost = mean_absolute_error(y2_test,pred_AdaBoost)\n",
    "print(\"mea AdaBoost\", mea_adaBoost)"
   ]
  },
  {
   "cell_type": "code",
   "execution_count": 38,
   "metadata": {},
   "outputs": [],
   "source": [
    "## while removing more parameters the ACC is lower, for example removing äbove standard price - 4037; removing customer number - lower then 2000\n",
    "## with Below standard price - 3945 \n",
    "## adding weeknum - 3980"
   ]
  },
  {
   "cell_type": "code",
   "execution_count": null,
   "metadata": {},
   "outputs": [],
   "source": []
  }
 ],
 "metadata": {
  "kernelspec": {
   "display_name": "Python 3",
   "language": "python",
   "name": "python3"
  },
  "language_info": {
   "codemirror_mode": {
    "name": "ipython",
    "version": 3
   },
   "file_extension": ".py",
   "mimetype": "text/x-python",
   "name": "python",
   "nbconvert_exporter": "python",
   "pygments_lexer": "ipython3",
   "version": "3.6.5"
  }
 },
 "nbformat": 4,
 "nbformat_minor": 2
}
