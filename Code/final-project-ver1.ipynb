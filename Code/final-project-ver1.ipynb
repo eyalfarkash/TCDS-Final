{
 "cells": [
  {
   "cell_type": "code",
   "execution_count": 15,
   "metadata": {},
   "outputs": [],
   "source": [
    "from typing import Any, Union\n",
    "import numpy as np\n",
    "import pandas as pd\n",
    "import matplotlib.pyplot as plt\n",
    "import seaborn as sns\n",
    "import string\n",
    "from IPython.display import display"
   ]
  },
  {
   "cell_type": "code",
   "execution_count": 16,
   "metadata": {},
   "outputs": [],
   "source": [
    "#desired_width=520\n",
    "#pd.set_option('display.width', desired_width)\n",
    "#np.set_printoptions(linewidth=desired_width)\n",
    "#pd.set_option('display.max_columns',18)"
   ]
  },
  {
   "cell_type": "code",
   "execution_count": 18,
   "metadata": {},
   "outputs": [
    {
     "name": "stdout",
     "output_type": "stream",
     "text": [
      "   Product_ID  Year  Month   Week  DatePO  Av_price_above_STD_price     ...      Standard_price  Date  Holiday  Temp_Hi  Temp_Lo  Temp_Rain\n",
      "0          10    11      12    13      14                         15    ...                  22    23       24       25       26         27\n",
      "1          50    51      52    53      54                         55    ...                  62    63       64       65       66         67\n",
      "\n",
      "[2 rows x 18 columns]\n"
     ]
    }
   ],
   "source": [
    "Data = pd.read_csv(\"Excel2.csv\", header=0)\n",
    "pd.options.display.max_columns = 13\n",
    "#display(Data)\n",
    "print(Data.head())"
   ]
  },
  {
   "cell_type": "code",
   "execution_count": 14,
   "metadata": {},
   "outputs": [
    {
     "name": "stdout",
     "output_type": "stream",
     "text": [
      "         Customer\n",
      "            count\n",
      "Customer         \n",
      "17              1\n",
      "57              1\n"
     ]
    }
   ],
   "source": [
    "Number_of_orders = (Data.groupby(['Customer']).agg({'Customer':['count']}))\n",
    "print(Number_of_orders)"
   ]
  },
  {
   "cell_type": "code",
   "execution_count": null,
   "metadata": {},
   "outputs": [],
   "source": []
  }
 ],
 "metadata": {
  "kernelspec": {
   "display_name": "Python 3",
   "language": "python",
   "name": "python3"
  },
  "language_info": {
   "codemirror_mode": {
    "name": "ipython",
    "version": 3
   },
   "file_extension": ".py",
   "mimetype": "text/x-python",
   "name": "python",
   "nbconvert_exporter": "python",
   "pygments_lexer": "ipython3",
   "version": "3.7.1"
  }
 },
 "nbformat": 4,
 "nbformat_minor": 2
}
